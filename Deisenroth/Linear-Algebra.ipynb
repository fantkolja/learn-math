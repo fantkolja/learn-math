{
 "cells": [
  {
   "cell_type": "markdown",
   "id": "87bb4953-f2d9-4cfc-af1d-4f38498490c3",
   "metadata": {},
   "source": [
    "# Chapter 2. Linear Algebra"
   ]
  },
  {
   "cell_type": "markdown",
   "id": "aa3674c6-82e7-4c8f-9998-228c56963d79",
   "metadata": {},
   "source": [
    "## Vectors\n",
    "\n",
    "Significant properties of vectors (from mathematical point of view):\n",
    "1. Can be added together.\n",
    "2. Can be multiplied by a scalar\n",
    "\n",
    "Exaples of vectors:\n",
    "- geometric vectors: $\\vec{x}$, $\\vec{y}$;\n",
    "- polynomials: $x^3 + 3x^2 - 4x + 1$;\n",
    "- audio signals;\n",
    "- elements of $\\mathbb{R}^n$ (tuples of $n$ real numbers): $a = \\begin{bmatrix} 1  \\\\ 2  \\\\ 3\\end{bmatrix} \\in \\mathbb{R}^3 $"
   ]
  },
  {
   "cell_type": "code",
   "execution_count": null,
   "id": "31fc830c-cdc5-47f6-aec6-ea79dab2e3b6",
   "metadata": {},
   "outputs": [],
   "source": []
  }
 ],
 "metadata": {
  "kernelspec": {
   "display_name": "Python 3 (ipykernel)",
   "language": "python",
   "name": "python3"
  },
  "language_info": {
   "codemirror_mode": {
    "name": "ipython",
    "version": 3
   },
   "file_extension": ".py",
   "mimetype": "text/x-python",
   "name": "python",
   "nbconvert_exporter": "python",
   "pygments_lexer": "ipython3",
   "version": "3.11.5"
  }
 },
 "nbformat": 4,
 "nbformat_minor": 5
}
